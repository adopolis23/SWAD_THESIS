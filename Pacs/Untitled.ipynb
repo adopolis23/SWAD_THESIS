{
 "cells": [
  {
   "cell_type": "code",
   "execution_count": 1,
   "id": "269fdb5a-cd6b-44de-ba4f-d5889af01324",
   "metadata": {},
   "outputs": [],
   "source": [
    "import random"
   ]
  },
  {
   "cell_type": "code",
   "execution_count": 33,
   "id": "2bf0f585-b3e4-4de3-bd4c-c11a40cf64be",
   "metadata": {},
   "outputs": [],
   "source": [
    "a = [1, 2, 3, 4, 5, 6]\n",
    "b = []"
   ]
  },
  {
   "cell_type": "code",
   "execution_count": 34,
   "id": "0edb4b1d-3d5b-44ce-b7dd-cb23aa9be039",
   "metadata": {},
   "outputs": [],
   "source": [
    "\n",
    "for i in range(2):\n",
    "    b.append(a.pop(random.randrange(0,len(a),1)))"
   ]
  },
  {
   "cell_type": "code",
   "execution_count": 35,
   "id": "0cc8aea4-0230-43b8-ab4b-4bf16f2b5e92",
   "metadata": {},
   "outputs": [
    {
     "name": "stdout",
     "output_type": "stream",
     "text": [
      "[2, 3, 4, 5]\n",
      "[1, 6]\n"
     ]
    }
   ],
   "source": [
    "print(a)\n",
    "print(b)"
   ]
  },
  {
   "cell_type": "code",
   "execution_count": null,
   "id": "968d0aa0-7339-4bb1-ba68-4efd2e052fd6",
   "metadata": {},
   "outputs": [],
   "source": []
  }
 ],
 "metadata": {
  "kernelspec": {
   "display_name": "Python 3 (ipykernel)",
   "language": "python",
   "name": "python3"
  },
  "language_info": {
   "codemirror_mode": {
    "name": "ipython",
    "version": 3
   },
   "file_extension": ".py",
   "mimetype": "text/x-python",
   "name": "python",
   "nbconvert_exporter": "python",
   "pygments_lexer": "ipython3",
   "version": "3.9.16"
  }
 },
 "nbformat": 4,
 "nbformat_minor": 5
}
