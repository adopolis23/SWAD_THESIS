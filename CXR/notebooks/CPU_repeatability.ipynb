{
 "cells": [
  {
   "cell_type": "code",
   "execution_count": 22,
   "id": "7422f054",
   "metadata": {},
   "outputs": [],
   "source": [
    "import tensorflow as tf"
   ]
  },
  {
   "cell_type": "code",
   "execution_count": 28,
   "id": "38128e8f",
   "metadata": {},
   "outputs": [],
   "source": [
    "def setSeed():\n",
    "    from numpy.random import seed\n",
    "    import random as ran\n",
    "    \n",
    "    %env PYTHONHASHSEED=1\n",
    "    ran.seed(1)\n",
    "    seed(1)\n",
    "    tf.random.set_seed(1)"
   ]
  },
  {
   "cell_type": "code",
   "execution_count": 31,
   "id": "9bbcff33",
   "metadata": {
    "scrolled": false
   },
   "outputs": [
    {
     "name": "stdout",
     "output_type": "stream",
     "text": [
      "env: PYTHONHASHSEED=1\n",
      "Num GPUs Available:  0\n",
      "Epoch 1/10\n",
      "1/1 [==============================] - 0s 290ms/step - loss: 0.2337 - binary_accuracy: 0.7500\n",
      "Epoch 2/10\n",
      "1/1 [==============================] - 0s 4ms/step - loss: 0.2335 - binary_accuracy: 0.5000\n",
      "Epoch 3/10\n",
      "1/1 [==============================] - 0s 3ms/step - loss: 0.2333 - binary_accuracy: 0.7500\n",
      "Epoch 4/10\n",
      "1/1 [==============================] - 0s 4ms/step - loss: 0.2331 - binary_accuracy: 0.7500\n",
      "Epoch 5/10\n",
      "1/1 [==============================] - 0s 3ms/step - loss: 0.2329 - binary_accuracy: 0.7500\n",
      "Epoch 6/10\n",
      "1/1 [==============================] - 0s 3ms/step - loss: 0.2327 - binary_accuracy: 0.7500\n",
      "Epoch 7/10\n",
      "1/1 [==============================] - 0s 2ms/step - loss: 0.2325 - binary_accuracy: 0.7500\n",
      "Epoch 8/10\n",
      "1/1 [==============================] - 0s 4ms/step - loss: 0.2323 - binary_accuracy: 0.7500\n",
      "Epoch 9/10\n",
      "1/1 [==============================] - 0s 4ms/step - loss: 0.2321 - binary_accuracy: 0.7500\n",
      "Epoch 10/10\n",
      "1/1 [==============================] - 0s 4ms/step - loss: 0.2319 - binary_accuracy: 0.7500\n",
      "1/1 [==============================] - 0s 42ms/step\n",
      "[[0.49755946]\n",
      " [0.59089184]\n",
      " [0.5058313 ]\n",
      " [0.5172117 ]]\n"
     ]
    }
   ],
   "source": [
    "setSeed()\n",
    "\n",
    "print(\"Num GPUs Available: \", len(tf.config.list_physical_devices('GPU')))\n",
    "\n",
    "import numpy as np\n",
    "from keras.models import Sequential\n",
    "from keras.layers.core import Dense\n",
    "\n",
    "# the four different states of the XOR gate\n",
    "training_data = np.array([[0,0],[0,1],[1,0],[1,1]], \"float32\")\n",
    "\n",
    "# the four expected results in the same order\n",
    "target_data = np.array([[0],[1],[1],[0]], \"float32\")\n",
    "\n",
    "model = Sequential()\n",
    "model.add(Dense(16, input_dim=2, activation='relu'))\n",
    "model.add(Dense(1, activation='sigmoid'))\n",
    "\n",
    "model.compile(loss='mean_squared_error',\n",
    "              optimizer='adam',\n",
    "              metrics=['binary_accuracy'])\n",
    "\n",
    "model.fit(training_data, target_data, epochs=10, verbose=1)\n",
    "\n",
    "print(model.predict(training_data))"
   ]
  },
  {
   "cell_type": "code",
   "execution_count": null,
   "id": "a5b3013a",
   "metadata": {},
   "outputs": [],
   "source": []
  }
 ],
 "metadata": {
  "kernelspec": {
   "display_name": "Python 3 (ipykernel)",
   "language": "python",
   "name": "python3"
  },
  "language_info": {
   "codemirror_mode": {
    "name": "ipython",
    "version": 3
   },
   "file_extension": ".py",
   "mimetype": "text/x-python",
   "name": "python",
   "nbconvert_exporter": "python",
   "pygments_lexer": "ipython3",
   "version": "3.10.11"
  }
 },
 "nbformat": 4,
 "nbformat_minor": 5
}
