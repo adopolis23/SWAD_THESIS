{
 "cells": [
  {
   "cell_type": "code",
   "execution_count": 61,
   "id": "5b22faf0",
   "metadata": {},
   "outputs": [],
   "source": [
    "import numpy as np\n",
    "from keras.models import Sequential\n",
    "from keras.layers.core import Dense\n",
    "\n",
    "# the four different states of the XOR gate\n",
    "training_data = np.array([[0,0],[0,1],[1,0],[1,1]], \"float32\")\n",
    "\n",
    "# the four expected results in the same order\n",
    "target_data = np.array([[0],[1],[1],[0]], \"float32\")\n",
    "\n",
    "model = Sequential()\n",
    "model.add(Dense(4, input_dim=2, activation='relu'))\n",
    "model.add(Dense(4, input_dim=2, activation='relu'))\n",
    "model.add(Dense(1, activation='sigmoid'))\n",
    "\n",
    "model.compile(loss='mean_squared_error',\n",
    "              optimizer='adam',\n",
    "              metrics=['binary_accuracy'])"
   ]
  },
  {
   "cell_type": "code",
   "execution_count": 62,
   "id": "1727615e",
   "metadata": {},
   "outputs": [],
   "source": [
    "weights1 = model.get_weights()"
   ]
  },
  {
   "cell_type": "code",
   "execution_count": 63,
   "id": "11736faa",
   "metadata": {},
   "outputs": [
    {
     "data": {
      "text/plain": [
       "<keras.callbacks.History at 0x13aceaabc10>"
      ]
     },
     "execution_count": 63,
     "metadata": {},
     "output_type": "execute_result"
    }
   ],
   "source": [
    "model.fit(training_data, target_data, epochs=10, verbose=0)"
   ]
  },
  {
   "cell_type": "code",
   "execution_count": 64,
   "id": "ba7563cd",
   "metadata": {},
   "outputs": [],
   "source": [
    "weights2 = model.get_weights()"
   ]
  },
  {
   "cell_type": "code",
   "execution_count": 65,
   "id": "94bcaddb",
   "metadata": {},
   "outputs": [],
   "source": [
    "def addWeights(w1, w2):\n",
    "    tmp = [w1, w2]\n",
    "    new = list()\n",
    "    for wt in zip(*tmp):\n",
    "        new.append(\n",
    "            np.array([np.array(w).sum(axis=0) for w in zip(*wt)])\n",
    "        )\n",
    "    return new"
   ]
  },
  {
   "cell_type": "code",
   "execution_count": 66,
   "id": "8f7aa71b",
   "metadata": {},
   "outputs": [
    {
     "data": {
      "text/plain": [
       "[array([[-1.1701083 , -1.7134585 ,  1.041789  ,  1.9459573 ],\n",
       "        [-0.01072025,  0.68212754, -0.19478184,  0.46334964]],\n",
       "       dtype=float32),\n",
       " array([ 0.        , -0.00998301, -0.00983093,  0.00991893], dtype=float32),\n",
       " array([[ 0.19302702,  1.302066  , -0.48872995, -1.3605673 ],\n",
       "        [-1.3881645 , -1.6740611 , -0.25307885,  1.6401141 ],\n",
       "        [ 0.00706824,  1.3044168 ,  0.8534556 ,  0.41676795],\n",
       "        [ 0.10192106, -1.099179  ,  1.0607935 , -1.154332  ]],\n",
       "       dtype=float32),\n",
       " array([ 0.00947719,  0.        ,  0.00316495, -0.00998926], dtype=float32),\n",
       " array([[-1.6410184 ],\n",
       "        [-0.1877389 ],\n",
       "        [ 0.32998762],\n",
       "        [-0.7624295 ]], dtype=float32),\n",
       " array([-0.00971767], dtype=float32)]"
      ]
     },
     "execution_count": 66,
     "metadata": {},
     "output_type": "execute_result"
    }
   ],
   "source": [
    "new_w = addWeights(weights1, weights2)\n",
    "new_w"
   ]
  },
  {
   "cell_type": "code",
   "execution_count": 67,
   "id": "c64cda0d",
   "metadata": {},
   "outputs": [
    {
     "data": {
      "text/plain": [
       "[array([[-0.58505416, -0.85672927,  0.52089453,  0.97297865],\n",
       "        [-0.00536013,  0.34106377, -0.09739092,  0.23167482]]),\n",
       " array([ 0.        , -0.00499151, -0.00491546,  0.00495946]),\n",
       " array([[ 0.09651351,  0.65103298, -0.24436498, -0.68028367],\n",
       "        [-0.69408226, -0.83703053, -0.12653942,  0.82005703],\n",
       "        [ 0.00353412,  0.65220839,  0.4267278 ,  0.20838398],\n",
       "        [ 0.05096053, -0.54958951,  0.53039676, -0.57716602]]),\n",
       " array([ 0.0047386 ,  0.        ,  0.00158247, -0.00499463]),\n",
       " array([[-0.8205092 ],\n",
       "        [-0.09386945],\n",
       "        [ 0.16499381],\n",
       "        [-0.38121474]]),\n",
       " array([-0.00485884])]"
      ]
     },
     "execution_count": 67,
     "metadata": {},
     "output_type": "execute_result"
    }
   ],
   "source": [
    "def divideBy(w1, n):\n",
    "    sol = list()\n",
    "    \n",
    "    for x in w1:\n",
    "        if len(x.shape) == 2:\n",
    "            sol.append(\n",
    "                np.array([[y/n for y in z] for z in x])\n",
    "            )\n",
    "        if len(x.shape) == 1:\n",
    "            sol.append(\n",
    "                np.array([z/n for z in x])\n",
    "            )\n",
    "    \n",
    "    return sol\n",
    "    \n",
    "    \n",
    "            \n",
    "new2 = divideBy(new_w, 2)\n",
    "new2\n"
   ]
  },
  {
   "cell_type": "code",
   "execution_count": null,
   "id": "e7977970",
   "metadata": {},
   "outputs": [],
   "source": []
  }
 ],
 "metadata": {
  "kernelspec": {
   "display_name": "Python 3 (ipykernel)",
   "language": "python",
   "name": "python3"
  },
  "language_info": {
   "codemirror_mode": {
    "name": "ipython",
    "version": 3
   },
   "file_extension": ".py",
   "mimetype": "text/x-python",
   "name": "python",
   "nbconvert_exporter": "python",
   "pygments_lexer": "ipython3",
   "version": "3.10.11"
  }
 },
 "nbformat": 4,
 "nbformat_minor": 5
}
